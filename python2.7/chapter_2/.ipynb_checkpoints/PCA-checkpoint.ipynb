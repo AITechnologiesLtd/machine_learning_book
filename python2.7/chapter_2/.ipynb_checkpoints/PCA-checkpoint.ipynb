{
 "cells": [
  {
   "cell_type": "code",
   "execution_count": 1,
   "metadata": {
    "collapsed": true
   },
   "outputs": [],
   "source": [
    "import numpy as np\n",
    "from matplotlib import pyplot as plt\n",
    "%matplotlib inline "
   ]
  },
  {
   "cell_type": "code",
   "execution_count": 2,
   "metadata": {
    "collapsed": false
   },
   "outputs": [
    {
     "name": "stderr",
     "output_type": "stream",
     "text": [
      "/opt/local/Library/Frameworks/Python.framework/Versions/2.7/lib/python2.7/site-packages/matplotlib/collections.py:571: FutureWarning: elementwise comparison failed; returning scalar instead, but in the future will perform elementwise comparison\n",
      "  if self._edgecolors == str('face'):\n"
     ]
    },
    {
     "data": {
      "image/png": "[encoded data removed]",
      "text/plain": [
       "<matplotlib.figure.Figure at 0x10c40f850>"
      ]
     },
     "metadata": {},
     "output_type": "display_data"
    }
   ],
   "source": [
    " \n",
    "#line y = 2*x\n",
    "x = np.arange(1,101,1).astype(float)\n",
    "y = 2*np.arange(1,101,1).astype(float)\n",
    "#add noise\n",
    "noise = np.random.normal(0, 10, 100)\n",
    "y += noise\n",
    "\n",
    "fig = plt.figure(figsize=(10,10))\n",
    "#plot\n",
    "plt.plot(x,y,'ro')\n",
    "plt.axis([0,102, -20,220])\n",
    "plt.quiver(60, 100,10-0, 20-0, scale_units='xy', scale=1)\n",
    "plt.arrow(60, 100,10-0, 20-0,head_width=2.5, head_length=2.5, fc='k', ec='k')\n",
    "plt.text(70, 110, r'$v^1$', fontsize=20)\n",
    "\n",
    "#save\n",
    "ax = fig.add_subplot(111)\n",
    "ax.axis([0,102, -20,220])\n",
    "ax.set_xlabel('x',fontsize=40)\n",
    "ax.set_ylabel('y',fontsize=40)\n",
    "fig.suptitle('2 dimensional dataset',fontsize=40)\n",
    "fig.savefig('pca_data.png')"
   ]
  },
  {
   "cell_type": "code",
   "execution_count": 3,
   "metadata": {
    "collapsed": false
   },
   "outputs": [
    {
     "name": "stdout",
     "output_type": "stream",
     "text": [
      "[[ 1.01010101  0.99432117]\n",
      " [ 0.99432117  1.01010101]]\n",
      "[(2.0044221787947896, array([-0.70710678, -0.70710678])), (0.015779841407231099, array([-0.70710678,  0.70710678]))]\n",
      "slope: 1.96658726903\n",
      "[[ 0.70710678  0.70710678]] - 1.0\n",
      "(100, 1)\n",
      "[ 2.35702215] - [-2.35702215]\n"
     ]
    }
   ],
   "source": [
    "#calc PCA\n",
    "mean_x = np.mean(x)\n",
    "mean_y = np.mean(y)\n",
    "mean_vector = np.array([[mean_x],[mean_y]])\n",
    "u_x = (x- mean_x)/np.std(x)\n",
    "u_y = (y-mean_y)/np.std(y)\n",
    "sigma = np.cov([u_x,u_y])\n",
    "print sigma\n",
    "eig_vals, eig_vecs = np.linalg.eig(sigma)\n",
    "\n",
    "eig_pairs = [(np.abs(eig_vals[i]), eig_vecs[:,i])\n",
    "             for i in range(len(eig_vals))]\n",
    "             \n",
    "eig_pairs.sort()\n",
    "eig_pairs.reverse()\n",
    "print eig_pairs\n",
    "v1 = eig_pairs[0][1]\n",
    "#leading eigenvector:\n",
    "x_v1 = v1[0]*np.std(x)+mean_x\n",
    "y_v1 = v1[1]*np.std(y)+mean_y\n",
    "print 'slope:',(y_v1)/(x_v1)\n",
    "\n",
    "from sklearn.decomposition import PCA\n",
    "#X = np.array([x,y])\n",
    "X = np.array([u_x,u_y])\n",
    "X = X.T\n",
    "#print X\n",
    "pca = PCA(n_components=1)\n",
    "pca.fit(X)\n",
    "V = pca.components_\n",
    "print V,'-',V[0][1]/V[0][0]\n",
    "#transform in reduced space\n",
    "X_red_sklearn = pca.fit_transform(X)\n",
    "print X_red_sklearn.shape\n",
    "\n",
    "W = np.array(v1.reshape(2,1))\n",
    "X_red = W.T.dot(X.T)\n",
    "#check the reduced matrices are equal\n",
    "assert X_red.T.all() == X_red_sklearn.all(), 'problem with the pca algorithm'\n",
    "print X_red.T[0],'-',X_red_sklearn[0]"
   ]
  },
  {
   "cell_type": "code",
   "execution_count": null,
   "metadata": {
    "collapsed": true
   },
   "outputs": [],
   "source": []
  }
 ],
 "metadata": {
  "kernelspec": {
   "display_name": "Python 2",
   "language": "python",
   "name": "python2"
  },
  "language_info": {
   "codemirror_mode": {
    "name": "ipython",
    "version": 2
   },
   "file_extension": ".py",
   "mimetype": "text/x-python",
   "name": "python",
   "nbconvert_exporter": "python",
   "pygments_lexer": "ipython2",
   "version": "2.7.11"
  }
 },
 "nbformat": 4,
 "nbformat_minor": 0
}
