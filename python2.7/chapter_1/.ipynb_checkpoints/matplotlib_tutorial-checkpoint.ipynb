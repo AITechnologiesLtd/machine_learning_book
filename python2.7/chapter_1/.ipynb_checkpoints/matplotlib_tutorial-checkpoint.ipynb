{
 "cells": [
  {
   "cell_type": "code",
   "execution_count": 1,
   "metadata": {
    "collapsed": true
   },
   "outputs": [],
   "source": [
    "import matplotlib.pyplot as plt\n",
    "%matplotlib inline "
   ]
  },
  {
   "cell_type": "code",
   "execution_count": 2,
   "metadata": {
    "collapsed": true
   },
   "outputs": [],
   "source": [
    "plt.plot([10,5,2,4],color='green',label='line 1', linewidth=5)\n",
    "plt.ylabel('y',fontsize=40)\n",
    "plt.xlabel('x',fontsize=40)\n",
    "plt.axis([0,3, 0,15])\n",
    "plt.show()"
   ]
  },
  {
   "cell_type": "code",
   "execution_count": 5,
   "metadata": {
    "collapsed": true
   },
   "outputs": [],
   "source": [
    "#simple plot of a line\n",
    "fig = plt.figure(figsize=(10,10))\n",
    "ax = fig.add_subplot(111)\n",
    "ax.set_xlabel('x',fontsize=40)\n",
    "ax.set_ylabel('y',fontsize=40)\n",
    "fig.suptitle('figure',fontsize=40)\n",
    "ax.plot([10,5,2,4],color='green',label='line 1', linewidth=5)\n",
    "fig.savefig('figure.png')"
   ]
  },
  {
   "cell_type": "code",
   "execution_count": 8,
   "metadata": {
    "collapsed": false
   },
   "outputs": [],
   "source": [
    "import numpy as np\n",
    "fig = plt.figure(figsize=(10,10))\n",
    "ax = fig.add_subplot(111)\n",
    "r = np.arange(0., 10., 0.3)\n",
    "p1, = ax.plot(r, r, 'r--',label='line 1', linewidth=10)\n",
    "p2, = ax.plot(r, r**0.5, 'bs',label='line 2', linewidth=10)\n",
    "p3, = ax.plot(r,np.sin(r),'g^', label='line 3', markersize=10)\n",
    "handles, labels = ax.get_legend_handles_labels()\n",
    "ax.legend(handles, labels,fontsize=40)\n",
    "ax.set_xlabel('x',fontsize=40)\n",
    "ax.set_ylabel('y',fontsize=40)\n",
    "fig.suptitle('figure 1',fontsize=40)\n",
    "fig.savefig('figure_multiplelines.png')"
   ]
  },
  {
   "cell_type": "code",
   "execution_count": 10,
   "metadata": {
    "collapsed": false
   },
   "outputs": [],
   "source": [
    "colors = ['b', 'c', 'y', 'm', 'r']\n",
    "fig = plt.figure(figsize=(10,10))\n",
    "ax = fig.add_subplot(111)\n",
    "ax.scatter(np.random.random(10), np.random.random(10), marker='x', color=colors[0])\n",
    "p1 = ax.scatter(np.random.random(10), np.random.random(10), marker='x', color=colors[0],s=50)\n",
    "p2 = ax.scatter(np.random.random(10), np.random.random(10), marker='o', color=colors[1],s=50)\n",
    "p3 = ax.scatter(np.random.random(10), np.random.random(10), marker='o', color=colors[2],s=50)\n",
    "ax.legend((p1,p2,p3),('points 1','points 2','points 3'),fontsize=20)\n",
    "ax.set_xlabel('x',fontsize=40)\n",
    "ax.set_ylabel('y',fontsize=40)\n",
    "fig.savefig('figure_scatterplot.png')"
   ]
  },
  {
   "cell_type": "code",
   "execution_count": null,
   "metadata": {
    "collapsed": true
   },
   "outputs": [],
   "source": []
  }
 ],
 "metadata": {
  "kernelspec": {
   "display_name": "Python 2",
   "language": "python",
   "name": "python2"
  },
  "language_info": {
   "codemirror_mode": {
    "name": "ipython",
    "version": 2
   },
   "file_extension": ".py",
   "mimetype": "text/x-python",
   "name": "python",
   "nbconvert_exporter": "python",
   "pygments_lexer": "ipython2",
   "version": "2.7.11"
  }
 },
 "nbformat": 4,
 "nbformat_minor": 0
}
